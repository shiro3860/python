{
 "cells": [
  {
   "cell_type": "code",
   "execution_count": 10,
   "metadata": {},
   "outputs": [],
   "source": [
    "import os\n",
    "import cv2\n",
    "import numpy as np\n",
    "import tensorflow as tf\n",
    "from skimage import io"
   ]
  },
  {
   "cell_type": "code",
   "execution_count": 11,
   "metadata": {},
   "outputs": [],
   "source": [
    "def get_File(file_dir):\n",
    "    # The images in each subfolder\n",
    "    images = []\n",
    "    # The subfolders\n",
    "    subfolders = []\n",
    "\n",
    "    # Using \"os.walk\" function to grab all the files in each folder\n",
    "    for dirPath, dirNames, fileNames in os.walk(file_dir):\n",
    "        for name in fileNames:\n",
    "            images.append(os.path.join(dirPath, name))\n",
    "\n",
    "        for name in dirNames:\n",
    "            subfolders.append(os.path.join(dirPath, name))\n",
    "\n",
    "    # To record the labels of the image dataset\n",
    "    labels = []\n",
    "    \n",
    "    for one_folder in subfolders:\n",
    "        n_img = len(os.listdir(one_folder))\n",
    "        letter = one_folder.split('/')[-1]\n",
    "        \n",
    "        if letter=='a':\n",
    "            labels = np.append(labels, n_img*[1])\n",
    "        elif letter=='b':\n",
    "            labels = np.append(labels, n_img*[2])\n",
    "        elif letter=='c':\n",
    "            labels = np.append(labels, n_img*[3])\n",
    "        else :\n",
    "            labels = np.append(labels, n_img*[4])\n",
    "\n",
    "    subfolders = np.array([images, labels])\n",
    "    subfolders = subfolders.transpose()\n",
    "\n",
    "    image_list = list(subfolders[0])\n",
    "    label_list = list(subfolders[1])\n",
    "    label_list = [int(float(i)) for i in label_list]\n",
    "    return image_list, label_list"
   ]
  },
  {
   "cell_type": "code",
   "execution_count": 12,
   "metadata": {},
   "outputs": [],
   "source": [
    "# 轉Int64資料為 tf.train.Feature 格式\n",
    "def int64_feature(value):\n",
    "    if not isinstance(value, list):\n",
    "        value = [value]\n",
    "    return tf.train.Feature(int64_list=tf.train.Int64List(value=value))\n",
    "\n",
    "# 轉Bytes資料為 tf.train.Feature 格式\n",
    "def bytes_feature(value):\n",
    "    return tf.train.Feature(bytes_list=tf.train.BytesList(value=[value]))\n",
    "\n",
    "def convert_to_TFRecord(images, labels, filename):\n",
    "    n_samples = len(labels)\n",
    "    TFWriter = tf.python_io.TFRecordWriter(filename)\n",
    "\n",
    "    print('\\nTransform start...')\n",
    "    for i in np.arange(0, n_samples):\n",
    "        try:\n",
    "            image = io.imread(images[i])\n",
    "\n",
    "            if image is None:\n",
    "                print('Error image:' + images[i])\n",
    "            else:\n",
    "                image_raw = image.tostring()\n",
    "\n",
    "            label = int(labels[i])\n",
    "            \n",
    "            # 將 tf.train.Feature 合併成 tf.train.Features\n",
    "            ftrs = tf.train.Features(\n",
    "                    feature={'Label': int64_feature(label),\n",
    "                             'image_raw': bytes_feature(image_raw)}\n",
    "                   )\n",
    "        \n",
    "            # 將 tf.train.Features 轉成 tf.train.Example\n",
    "            example = tf.train.Example(features=ftrs)\n",
    "\n",
    "            # 將 tf.train.Example 寫成 tfRecord 格式\n",
    "            TFWriter.write(example.SerializeToString())\n",
    "        except IOError as e:\n",
    "            print('Skip!\\n')\n",
    "\n",
    "    TFWriter.close()\n",
    "    print('Transform done!')"
   ]
  },
  {
   "cell_type": "code",
   "execution_count": 13,
   "metadata": {},
   "outputs": [
    {
     "name": "stdout",
     "output_type": "stream",
     "text": [
      "\n",
      "Transform start...\n",
      "Skip!\n",
      "\n",
      "Skip!\n",
      "\n",
      "Transform done!\n"
     ]
    }
   ],
   "source": [
    "def main():\n",
    "    # 資料集的位置\n",
    "    train_dataset_dir = 'C://Users//USER//Desktop//train//'\n",
    "    save_dir = 'C://Users//USER//Desktop//train//Train.tfrecords'\n",
    "    \n",
    "    # 取回所有檔案路徑\n",
    "    images, labels = get_File(train_dataset_dir)\n",
    "    \n",
    "    # 開始寫入 TRRecord 檔案\n",
    "    convert_to_TFRecord(images, labels, save_dir)\n",
    "\n",
    "if __name__ == '__main__':\n",
    "    main()"
   ]
  }
 ],
 "metadata": {
  "kernelspec": {
   "display_name": "Python 3",
   "language": "python",
   "name": "python3"
  },
  "language_info": {
   "codemirror_mode": {
    "name": "ipython",
    "version": 3
   },
   "file_extension": ".py",
   "mimetype": "text/x-python",
   "name": "python",
   "nbconvert_exporter": "python",
   "pygments_lexer": "ipython3",
   "version": "3.6.8"
  }
 },
 "nbformat": 4,
 "nbformat_minor": 2
}
