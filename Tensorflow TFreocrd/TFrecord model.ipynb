{
 "cells": [
  {
   "cell_type": "code",
   "execution_count": 2,
   "metadata": {
    "scrolled": true
   },
   "outputs": [],
   "source": [
    "import tensorflow as tf\n",
    "import numpy as np\n",
    "import Reading"
   ]
  },
  {
   "cell_type": "code",
   "execution_count": 3,
   "metadata": {},
   "outputs": [],
   "source": [
    "epoch = 160\n",
    "batch_size = 10\n",
    "\n",
    "def one_hot(labels,Label_class):\n",
    "    one_hot_label = np.array([[int(i == int(labels[j])) for i in range(Label_class)] for j in range(len(labels))])   \n",
    "    return one_hot_label\n",
    "\n",
    "#定義初始化變數 採用normal distribution , 標準差為0.02\n",
    "def weight_variable(shape):\n",
    "    initial = tf.truncated_normal(shape, stddev = 0.02)\n",
    "    return tf.Variable(initial)\n",
    "#定義初始化變數 採用常數 , 皆為0.1\n",
    "def bias_variable(shape):\n",
    "    initial = tf.constant(0.1, shape=shape)\n",
    "    return tf.Variable(initial)\n",
    "\n",
    "#convolution layer\n",
    "def conv2d(x,W):\n",
    "    return tf.nn.conv2d(x, W, strides=[1,1,1,1], padding='SAME')\n",
    "\n",
    "#max_pool layer\n",
    "def max_pool_4x4(x):\n",
    "    return tf.nn.max_pool(x, ksize=[1,4,4,1], strides=[1,4,4,1], padding='SAME')\n",
    "# 定義placeholder\n",
    "x = tf.placeholder(tf.float32, [batch_size,128,128,3])\n",
    "y_ = tf.placeholder(tf.float32, [batch_size,4])"
   ]
  },
  {
   "cell_type": "code",
   "execution_count": 4,
   "metadata": {},
   "outputs": [
    {
     "name": "stdout",
     "output_type": "stream",
     "text": [
      "WARNING:tensorflow:From C:\\Users\\USER\\Anaconda3\\lib\\site-packages\\tensorflow\\python\\framework\\op_def_library.py:263: colocate_with (from tensorflow.python.framework.ops) is deprecated and will be removed in a future version.\n",
      "Instructions for updating:\n",
      "Colocations handled automatically by placer.\n",
      "WARNING:tensorflow:From <ipython-input-4-36d9595a6e8d>:22: calling dropout (from tensorflow.python.ops.nn_ops) with keep_prob is deprecated and will be removed in a future version.\n",
      "Instructions for updating:\n",
      "Please use `rate` instead of `keep_prob`. Rate should be set to `rate = 1 - keep_prob`.\n"
     ]
    }
   ],
   "source": [
    "#first convolution and max_pool layer\n",
    "W_conv1 = weight_variable([5,5,3,32])\n",
    "b_conv1 = bias_variable([32])\n",
    "h_conv1 = tf.nn.relu(conv2d(x, W_conv1) + b_conv1)\n",
    "h_pool1 = max_pool_4x4(h_conv1)\n",
    "\n",
    "#second convolution and max_pool layer\n",
    "W_conv2 = weight_variable([5,5,32,64])\n",
    "b_conv2 = bias_variable([64])\n",
    "h_conv2 = tf.nn.relu(conv2d(h_pool1, W_conv2) + b_conv2)\n",
    "h_pool2 = max_pool_4x4(h_conv2)\n",
    "\n",
    "#變成全連接層，用一個mlp處理\n",
    "reshape = tf.reshape(h_pool2,[batch_size, -1])\n",
    "dim = reshape.get_shape()[1].value\n",
    "W_fc1 = weight_variable([dim, 1024])\n",
    "b_fc1 = bias_variable([1024])\n",
    "h_fc1 = tf.nn.relu(tf.matmul(reshape, W_fc1) + b_fc1)\n",
    "\n",
    "#dropout\n",
    "keep_prob = tf.placeholder(tf.float32)\n",
    "h_fc1_drop = tf.nn.dropout(h_fc1, keep_prob)\n",
    "\n",
    "W_fc2 = weight_variable([1024,4])\n",
    "b_fc2 = bias_variable([4])\n",
    "y_conv = tf.nn.softmax(tf.matmul(h_fc1_drop, W_fc2) + b_fc2)"
   ]
  },
  {
   "cell_type": "code",
   "execution_count": 5,
   "metadata": {},
   "outputs": [
    {
     "name": "stdout",
     "output_type": "stream",
     "text": [
      "WARNING:tensorflow:From C:\\Users\\USER\\Anaconda3\\lib\\site-packages\\tensorflow\\python\\ops\\math_ops.py:3066: to_int32 (from tensorflow.python.ops.math_ops) is deprecated and will be removed in a future version.\n",
      "Instructions for updating:\n",
      "Use tf.cast instead.\n"
     ]
    }
   ],
   "source": [
    "#損失函數和演算法\n",
    "\n",
    "# 計算最小交叉熵\n",
    "cross_entropy = tf.reduce_mean(-tf.reduce_sum(y_ * tf.log(y_conv), reduction_indices=[1]))\n",
    "\n",
    "train_step = tf.train.AdamOptimizer(0.001).minimize(cross_entropy)\n",
    "# 計算預測正確率\n",
    "correct_prediction = tf.equal(tf.argmax(y_conv,1),tf.argmax(y_,1))\n",
    "accuracy = tf.reduce_mean(tf.cast(correct_prediction,tf.float32))"
   ]
  },
  {
   "cell_type": "code",
   "execution_count": 6,
   "metadata": {
    "scrolled": false
   },
   "outputs": [
    {
     "name": "stdout",
     "output_type": "stream",
     "text": [
      "WARNING:tensorflow:From C:\\Users\\USER\\Desktop\\tfrecord\\Reading.py:18: string_input_producer (from tensorflow.python.training.input) is deprecated and will be removed in a future version.\n",
      "Instructions for updating:\n",
      "Queue-based input pipelines have been replaced by `tf.data`. Use `tf.data.Dataset.from_tensor_slices(string_tensor).shuffle(tf.shape(input_tensor, out_type=tf.int64)[0]).repeat(num_epochs)`. If `shuffle=False`, omit the `.shuffle(...)`.\n",
      "WARNING:tensorflow:From C:\\Users\\USER\\Anaconda3\\lib\\site-packages\\tensorflow\\python\\training\\input.py:278: input_producer (from tensorflow.python.training.input) is deprecated and will be removed in a future version.\n",
      "Instructions for updating:\n",
      "Queue-based input pipelines have been replaced by `tf.data`. Use `tf.data.Dataset.from_tensor_slices(input_tensor).shuffle(tf.shape(input_tensor, out_type=tf.int64)[0]).repeat(num_epochs)`. If `shuffle=False`, omit the `.shuffle(...)`.\n",
      "WARNING:tensorflow:From C:\\Users\\USER\\Anaconda3\\lib\\site-packages\\tensorflow\\python\\training\\input.py:190: limit_epochs (from tensorflow.python.training.input) is deprecated and will be removed in a future version.\n",
      "Instructions for updating:\n",
      "Queue-based input pipelines have been replaced by `tf.data`. Use `tf.data.Dataset.from_tensors(tensor).repeat(num_epochs)`.\n",
      "WARNING:tensorflow:From C:\\Users\\USER\\Anaconda3\\lib\\site-packages\\tensorflow\\python\\training\\input.py:199: QueueRunner.__init__ (from tensorflow.python.training.queue_runner_impl) is deprecated and will be removed in a future version.\n",
      "Instructions for updating:\n",
      "To construct input pipelines, use the `tf.data` module.\n",
      "WARNING:tensorflow:From C:\\Users\\USER\\Anaconda3\\lib\\site-packages\\tensorflow\\python\\training\\input.py:199: add_queue_runner (from tensorflow.python.training.queue_runner_impl) is deprecated and will be removed in a future version.\n",
      "Instructions for updating:\n",
      "To construct input pipelines, use the `tf.data` module.\n",
      "WARNING:tensorflow:From C:\\Users\\USER\\Anaconda3\\lib\\site-packages\\tensorflow\\python\\training\\input.py:202: to_float (from tensorflow.python.ops.math_ops) is deprecated and will be removed in a future version.\n",
      "Instructions for updating:\n",
      "Use tf.cast instead.\n",
      "WARNING:tensorflow:From C:\\Users\\USER\\Desktop\\tfrecord\\Reading.py:20: TFRecordReader.__init__ (from tensorflow.python.ops.io_ops) is deprecated and will be removed in a future version.\n",
      "Instructions for updating:\n",
      "Queue-based input pipelines have been replaced by `tf.data`. Use `tf.data.TFRecordDataset`.\n",
      "WARNING:tensorflow:From <ipython-input-6-04c70e587f86>:11: shuffle_batch (from tensorflow.python.training.input) is deprecated and will be removed in a future version.\n",
      "Instructions for updating:\n",
      "Queue-based input pipelines have been replaced by `tf.data`. Use `tf.data.Dataset.shuffle(min_after_dequeue).batch(batch_size)`.\n"
     ]
    }
   ],
   "source": [
    "# 自己做好的 TF 檔在哪裡，自己知道\n",
    "filename = 'C:/Users/USER/Desktop/tfrecord/Train.tfrecords'\n",
    "testname = 'C:/Users/USER/Desktop/tfrecord/Test.tfrecords'\n",
    "# 調用剛才的函數\n",
    "image, label = Reading.read_and_decode(filename)\n",
    "img_test, label_test = Reading.read_and_decode(testname)\n",
    "#使用shuffle_batch可以隨意打亂輸入\n",
    "img_batch, label_batch = tf.train.shuffle_batch([image, label],\n",
    "                                                batch_size=batch_size, \n",
    "                                                capacity=400,\n",
    "                                                min_after_dequeue=100)\n",
    "\n",
    "img_test, label_test = tf.train.shuffle_batch([img_test, label_test],\n",
    "                                                batch_size=batch_size,\n",
    "                                                capacity=400,\n",
    "                                                min_after_dequeue=100)\n"
   ]
  },
  {
   "cell_type": "code",
   "execution_count": 7,
   "metadata": {
    "scrolled": true
   },
   "outputs": [
    {
     "name": "stdout",
     "output_type": "stream",
     "text": [
      "WARNING:tensorflow:From <ipython-input-7-b40356dade5a>:9: start_queue_runners (from tensorflow.python.training.queue_runner_impl) is deprecated and will be removed in a future version.\n",
      "Instructions for updating:\n",
      "To construct input pipelines, use the `tf.data` module.\n",
      "Epoch:[  10] , accuracy:[0.40000001]\n",
      "Epoch:[  20] , accuracy:[0.69999999]\n",
      "Epoch:[  30] , accuracy:[1.00000000]\n",
      "Epoch:[  40] , accuracy:[1.00000000]\n",
      "Epoch:[  50] , accuracy:[1.00000000]\n",
      "Epoch:[  60] , accuracy:[1.00000000]\n",
      "Epoch:[  70] , accuracy:[1.00000000]\n",
      "Epoch:[  80] , accuracy:[1.00000000]\n",
      "Epoch:[  90] , accuracy:[1.00000000]\n",
      "Epoch:[ 100] , accuracy:[1.00000000]\n",
      "Epoch:[ 110] , accuracy:[1.00000000]\n",
      "Epoch:[ 120] , accuracy:[1.00000000]\n",
      "Epoch:[ 130] , accuracy:[1.00000000]\n",
      "Epoch:[ 140] , accuracy:[1.00000000]\n",
      "Epoch:[ 150] , accuracy:[1.00000000]\n",
      "Epoch:[ 160] , accuracy:[1.00000000]\n",
      "[[1 0 0 0]\n",
      " [0 0 0 1]\n",
      " [0 0 1 0]\n",
      " [0 1 0 0]\n",
      " [0 0 1 0]\n",
      " [0 0 1 0]\n",
      " [1 0 0 0]\n",
      " [0 0 0 1]\n",
      " [0 1 0 0]\n",
      " [0 1 0 0]]\n",
      "test accuracy: [1.00000000]\n",
      "1.0\n"
     ]
    }
   ],
   "source": [
    "with tf.Session() as sess:\n",
    "    # 初始化是必要的動作\n",
    "    sess.run(tf.global_variables_initializer())\n",
    "    sess.run(tf.local_variables_initializer())\n",
    "    \n",
    "    # 建立執行緒協調器\n",
    "    coord = tf.train.Coordinator()\n",
    "    # 啟動文件隊列，開始讀取文件\n",
    "    threads=tf.train.start_queue_runners(coord=coord) \n",
    "    \n",
    "    #batch_idxs = int(2314/batch_size)\n",
    "    #for i in range(1,epoch+1):\n",
    "        #for j in range(1,batch_size+1):\n",
    "            #val, l = sess.run([img_batch, label_batch])\n",
    "            #l = one_hot(l,2)\n",
    "            #_, acc = sess.run([train_step, accuracy], feed_dict={x: val, y_: l, keep_prob: 0.5})\n",
    "            #if i % 2 == 0:\n",
    "                #print(\"Epoch:[%4d] [%4d/%4d], accuracy:[%.8f]\" % (i, j, batch_size, acc) )\n",
    "                \n",
    "    for k in range(1,epoch+1):\n",
    "        val, l = sess.run([img_batch, label_batch])\n",
    "        l = one_hot(l,4)\n",
    "        \n",
    "         # 送資料進去訓練\n",
    "        sess.run(train_step , feed_dict={x: val, y_: l, keep_prob: 0.5})\n",
    "        if k % 10 == 0:\n",
    "            acc = sess.run(accuracy, feed_dict={x: val, y_: l, keep_prob: 0.5})\n",
    "            print(\"Epoch:[%4d] , accuracy:[%.8f]\" % (k, acc) )           \n",
    "    \n",
    "    #測試資料\n",
    "    val, l = sess.run([img_test, label_test])\n",
    "    l = one_hot(l,4)\n",
    "    print(l)\n",
    "    y, acc = sess.run([y_conv,accuracy], feed_dict={x: val, y_: l, keep_prob: 1})\n",
    "    \n",
    "    print(\"test accuracy: [%.8f]\" % (acc))\n",
    "    \n",
    "    #驗證模型\n",
    "    correct_prediction = tf.equal(tf.argmax(y,1), tf.argmax(y_,1))\n",
    "    accuracy = tf.reduce_mean(tf.cast(correct_prediction, tf.float32))\n",
    "    print(sess.run(accuracy, feed_dict={x:val , y_: l}))\n",
    "\n",
    "    coord.request_stop()\n",
    "    coord.join(threads)"
   ]
  }
 ],
 "metadata": {
  "kernelspec": {
   "display_name": "Python 3",
   "language": "python",
   "name": "python3"
  },
  "language_info": {
   "codemirror_mode": {
    "name": "ipython",
    "version": 3
   },
   "file_extension": ".py",
   "mimetype": "text/x-python",
   "name": "python",
   "nbconvert_exporter": "python",
   "pygments_lexer": "ipython3",
   "version": "3.6.8"
  }
 },
 "nbformat": 4,
 "nbformat_minor": 2
}
