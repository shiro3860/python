{
 "cells": [
  {
   "cell_type": "code",
   "execution_count": 2,
   "metadata": {},
   "outputs": [],
   "source": [
    "import os\n",
    "import cv2\n",
    "import numpy as np\n",
    "import tensorflow as tf\n",
    "import matplotlib.pyplot as plt"
   ]
  },
  {
   "cell_type": "code",
   "execution_count": 3,
   "metadata": {},
   "outputs": [],
   "source": [
    "I1 = cv2.imread('/Users/USER/Desktop/train/001.jpg')"
   ]
  },
  {
   "cell_type": "code",
   "execution_count": 4,
   "metadata": {},
   "outputs": [],
   "source": [
    "I2 = cv2.imread('/Users/USER/Desktop/train/002.jpg')"
   ]
  },
  {
   "cell_type": "code",
   "execution_count": 5,
   "metadata": {},
   "outputs": [],
   "source": [
    "def get_file(file_dir):\n",
    "    #圖片再各自的子資料夾\n",
    "    images = []\n",
    "    #子資料夾\n",
    "    subfolders = []\n",
    "    #使用 'os.walk' function 去抓取每個資料夾中的檔案\n",
    "    for dirPath,dirNames,fileNames in os.walk(file_dir):\n",
    "        for name in fileNames:\n",
    "            images.append(os.path.join(dirPath, name))\n",
    "\n",
    "        for name in dirNames:\n",
    "            subfolders.append(os.path.join(dirPath, name))\n",
    "    #紀錄圖片資料集的標籤\n",
    "    labels = []\n",
    "    count = 0\n",
    "    for a_folder in subfolders:\n",
    "        n_img = len(os.listdir(a_folder))\n",
    "        labels = np.append(labels, n_img * [count])\n",
    "        count+=1\n",
    "\n",
    "    subfolders = np.array([images, labels])\n",
    "    subfolders = subfolders.transpose()\n",
    "\n",
    "    image_list = list(subfolders[0])\n",
    "    label_list = list(subfolders[1])\n",
    "    label_list = [int(float(i)) for i in label_list]\n",
    "    return image_list, label_list"
   ]
  },
  {
   "cell_type": "code",
   "execution_count": 6,
   "metadata": {},
   "outputs": [],
   "source": [
    "# 標籤轉Int64資料為 tf.train.Feature 格式\n",
    "def int64_feature(value):\n",
    "    if not isinstance(value, list):\n",
    "        value = [value]\n",
    "    return tf.train.Feature(int64_list=tf.train.Int64List(value=value))\n",
    "\n",
    "# 圖片轉Bytes資料為 tf.train.Feature 格式\n",
    "def bytes_feature(value):\n",
    "    return tf.train.Feature(bytes_list=tf.train.BytesList(value=[value]))"
   ]
  },
  {
   "cell_type": "code",
   "execution_count": 7,
   "metadata": {},
   "outputs": [],
   "source": [
    "def convert_to_TFRecord(images, labels, filename):\n",
    "    n_samples = len(labels)\n",
    "    TFWriter = tf.python_io.TFRecordWriter(filename)\n",
    "\n",
    "    print('\\nTransform start...')\n",
    "    for i in np.arange(0, n_samples):\n",
    "        try:\n",
    "            image = cv2.imread(images[i], 0)\n",
    "\n",
    "            if image is None:\n",
    "                print('Error image:' + images[i])\n",
    "            else:\n",
    "                image_raw = image.tostring()\n",
    "\n",
    "            label = int(labels[i])\n",
    "            \n",
    "            # 將 tf.train.Feature 合併成 tf.train.Features\n",
    "            ftrs = tf.train.Features(\n",
    "                    feature={'Label': int64_feature(label),\n",
    "                             'image_raw': bytes_feature(image_raw)}\n",
    "                   )\n",
    "        \n",
    "            # 將 tf.train.Features 轉成 tf.train.Example\n",
    "            example = tf.train.Example(features=ftrs)\n",
    "\n",
    "            # 將 tf.train.Example 寫成 tfRecord 格式\n",
    "            TFWriter.write(example.SerializeToString())\n",
    "        except IOError as e:\n",
    "            print('Skip!\\n')\n",
    "\n",
    "    TFWriter.close()\n",
    "    print('Transform done!')"
   ]
  },
  {
   "cell_type": "code",
   "execution_count": 8,
   "metadata": {},
   "outputs": [
    {
     "name": "stdout",
     "output_type": "stream",
     "text": [
      "\n",
      "Transform start...\n",
      "Transform done!\n"
     ]
    }
   ],
   "source": [
    "def main():\n",
    "    #資料集的位置\n",
    "    train_dataset_dir = '/Users/USER/Desktop/train/'\n",
    "    \n",
    "    # 取回所有檔案路徑\n",
    "    images, labels = get_file(train_dataset_dir)\n",
    "    \n",
    "    # 開始寫入 TRRecord 檔案\n",
    "    convert_to_TFRecord(images, labels, '/Users/USER/Desktop/train/Train.tfrecords')\n",
    "    \n",
    "if __name__ == '__main__':\n",
    "    main()"
   ]
  },
  {
   "cell_type": "code",
   "execution_count": null,
   "metadata": {},
   "outputs": [],
   "source": []
  }
 ],
 "metadata": {
  "kernelspec": {
   "display_name": "Python 3",
   "language": "python",
   "name": "python3"
  },
  "language_info": {
   "codemirror_mode": {
    "name": "ipython",
    "version": 3
   },
   "file_extension": ".py",
   "mimetype": "text/x-python",
   "name": "python",
   "nbconvert_exporter": "python",
   "pygments_lexer": "ipython3",
   "version": "3.6.8"
  }
 },
 "nbformat": 4,
 "nbformat_minor": 2
}
