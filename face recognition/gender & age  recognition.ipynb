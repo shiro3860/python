{
 "cells": [
  {
   "cell_type": "code",
   "execution_count": 7,
   "metadata": {
    "scrolled": true
   },
   "outputs": [],
   "source": [
    "import cv2\n",
    "import numpy as np\n",
    "import cvlib as cv\n",
    "from contextlib import contextmanager\n",
    "from keras.utils.data_utils import get_file\n",
    "from model import get_model\n",
    "\n"
   ]
  },
  {
   "cell_type": "code",
   "execution_count": 8,
   "metadata": {},
   "outputs": [],
   "source": [
    "cap = cv2.VideoCapture(0)"
   ]
  },
  {
   "cell_type": "code",
   "execution_count": 9,
   "metadata": {
    "scrolled": true
   },
   "outputs": [
    {
     "name": "stdout",
     "output_type": "stream",
     "text": [
      "WARNING:tensorflow:From C:\\Users\\USER\\Anaconda3\\lib\\site-packages\\tensorflow\\python\\framework\\op_def_library.py:263: colocate_with (from tensorflow.python.framework.ops) is deprecated and will be removed in a future version.\n",
      "Instructions for updating:\n",
      "Colocations handled automatically by placer.\n",
      "[INFO] initializing ... \n",
      "WARNING:tensorflow:From C:\\Users\\USER\\Anaconda3\\lib\\site-packages\\keras\\backend\\tensorflow_backend.py:3445: calling dropout (from tensorflow.python.ops.nn_ops) with keep_prob is deprecated and will be removed in a future version.\n",
      "Instructions for updating:\n",
      "Please use `rate` instead of `keep_prob`. Rate should be set to `rate = 1 - keep_prob`.\n",
      "WARNING:tensorflow:From C:\\Users\\USER\\Anaconda3\\lib\\site-packages\\tensorflow\\python\\ops\\math_ops.py:3066: to_int32 (from tensorflow.python.ops.math_ops) is deprecated and will be removed in a future version.\n",
      "Instructions for updating:\n",
      "Use tf.cast instead.\n",
      "Gender : man 99.05%\n",
      "Age Range: 19\n",
      "Gender : man 99.81%\n",
      "Age Range: 21\n",
      "Gender : man 99.68%\n",
      "Age Range: 15\n"
     ]
    }
   ],
   "source": [
    "#cap.read（）返回一個bool（True / False） ret回傳bool image 回傳畫面\n",
    "while True:\n",
    "   \n",
    "    \n",
    "    ret, image = cap.read()\n",
    "    faces, confidences = cv.detect_face(image)\n",
    "    \n",
    "    model_name = \"ResNet50\"\n",
    "    weight_file = \"C:/Users/USER/Desktop/age-gender-estimation-master/age_estimation/age_only_resnet50_weights.061-3.300-4.410.hdf5\"\n",
    "    \n",
    "    # load model and weights\n",
    "    model = get_model(model_name=model_name)\n",
    "    model.load_weights(weight_file)\n",
    "    img_size = model.input.shape.as_list()[1]\n",
    "    \n",
    "    for i, (x, y, w, h ) in enumerate(faces):\n",
    "        cv2.rectangle(image, (x, y), (w, h), (255, 255, 0), 2)\n",
    "        # 將圖片轉換為 np.array，並作為模型的推論輸入\n",
    "        #blob = cv2.dnn.blobFromImage(image, 1, (227, 227), MODEL_MEAN_VALUES, swapRB=False)\n",
    "        \n",
    "        #裁切臉龐\n",
    "        face_crop = np.copy(image[y:h, x:w])\n",
    "        #性別預測\n",
    "        label, confidence = cv.detect_gender(face_crop)\n",
    "        label = label[confidence.argmax()]\n",
    "        conf = np.argmax(confidence)\n",
    "        print(\"Gender : \" + label+\" {:.2f}%\".format(confidence[conf] * 100))\n",
    "        \n",
    "        #年紀預測\n",
    "        face = np.empty((len(faces), img_size, img_size, 3))\n",
    "        face[i, :, :, :] = cv2.resize(image[y:h + 1, x:w + 1, :], (img_size, img_size))\n",
    "        \n",
    "        results = model.predict(face)\n",
    "        ages = np.arange(0, 101).reshape(101, 1)\n",
    "        predicted_ages = results.dot(ages).flatten()\n",
    "        print(\"Age Range: \" + \"{}\".format(int(predicted_ages[i])))\n",
    "         \n",
    "        \n",
    "        overlay_text =\"{:.2f}% \".format(confidences[0]* 100)+ \"%s\" % label  +\" {}\".format(int(predicted_ages[i]))\n",
    "        #cv2.putText(影像, 文字, 座標, 字型, 大小, 顏色, 線條寬度, 線條種類)\n",
    "        cv2.putText(image, overlay_text, (x, y), cv2.FONT_HERSHEY_SIMPLEX, 1, (255, 255, 255), 2, cv2.LINE_AA)\n",
    "        \n",
    "    cv2.imshow('frame', image)\n",
    "    key = cv2.waitKey(60) \n",
    "    if key == 27:  #ESC\n",
    "        # 釋放攝影機\n",
    "        cap.release()\n",
    "        # 關閉所有 OpenCV 視窗\n",
    "        cv2.destroyAllWindows()\n",
    "        break\n"
   ]
  }
 ],
 "metadata": {
  "kernelspec": {
   "display_name": "Python 3",
   "language": "python",
   "name": "python3"
  },
  "language_info": {
   "codemirror_mode": {
    "name": "ipython",
    "version": 3
   },
   "file_extension": ".py",
   "mimetype": "text/x-python",
   "name": "python",
   "nbconvert_exporter": "python",
   "pygments_lexer": "ipython3",
   "version": "3.6.8"
  }
 },
 "nbformat": 4,
 "nbformat_minor": 2
}
