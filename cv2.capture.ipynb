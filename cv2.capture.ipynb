{
 "cells": [
  {
   "cell_type": "code",
   "execution_count": 7,
   "metadata": {},
   "outputs": [],
   "source": [
    "import pafy\n",
    "\n",
    "#選取Youtube影片並創建一個對象“播放”，其中包含webm / mp4格式的影片的最佳分辨率\n",
    "url = 'https://www.youtube.com/watch?v=c7rCyll5AeY&list=PLAAZINzx3tiWjgjIcMk9jmaqU5GZJu1q-&index=9'\n",
    "vPafy = pafy.new(url)\n",
    "play = vPafy.getbest(preftype=\"mp4\")"
   ]
  },
  {
   "cell_type": "code",
   "execution_count": 8,
   "metadata": {},
   "outputs": [],
   "source": [
    "import cv2\n",
    "# 選擇第二隻攝影機\n",
    "cap = cv2.VideoCapture(play.url)\n",
    "\n",
    "while(True):\n",
    "    # 從攝影機擷取一張影像\n",
    "    ret, frame = cap.read()\n",
    "    # 將圖片轉為灰階\n",
    "    \n",
    "\n",
    "    # 顯示圖片\n",
    "    cv2.imshow('frame', frame)\n",
    "\n",
    "    # 若按下 q 鍵則離開迴圈\n",
    "    if cv2.waitKey(10) & 0xFF == ord('q'):\n",
    "        # 釋放攝影機\n",
    "        cap.release()\n",
    "\n",
    "        # 關閉所有 OpenCV 視窗\n",
    "        cv2.destroyAllWindows()\n",
    "        break\n",
    "\n"
   ]
  }
 ],
 "metadata": {
  "kernelspec": {
   "display_name": "Python 3",
   "language": "python",
   "name": "python3"
  },
  "language_info": {
   "codemirror_mode": {
    "name": "ipython",
    "version": 3
   },
   "file_extension": ".py",
   "mimetype": "text/x-python",
   "name": "python",
   "nbconvert_exporter": "python",
   "pygments_lexer": "ipython3",
   "version": "3.6.8"
  }
 },
 "nbformat": 4,
 "nbformat_minor": 2
}
