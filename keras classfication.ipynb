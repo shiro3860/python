{
 "cells": [
  {
   "cell_type": "code",
   "execution_count": 55,
   "metadata": {
    "scrolled": true
   },
   "outputs": [],
   "source": [
    "from keras.preprocessing.image import ImageDataGenerator"
   ]
  },
  {
   "cell_type": "code",
   "execution_count": 56,
   "metadata": {
    "scrolled": true
   },
   "outputs": [
    {
     "name": "stdout",
     "output_type": "stream",
     "text": [
      "Found 310 images belonging to 4 classes.\n",
      "Found 40 images belonging to 4 classes.\n",
      "Epoch 1/5\n",
      "62/62 [==============================] - 174s 3s/step - loss: 1.0124 - acc: 0.5524 - val_loss: 0.9295 - val_acc: 0.7500\n",
      "Epoch 2/5\n",
      "62/62 [==============================] - 186s 3s/step - loss: 0.3824 - acc: 0.8841 - val_loss: 0.0624 - val_acc: 1.0000\n",
      "Epoch 3/5\n",
      "62/62 [==============================] - 178s 3s/step - loss: 0.2838 - acc: 0.9332 - val_loss: 0.3382 - val_acc: 0.7308\n",
      "Epoch 4/5\n",
      "62/62 [==============================] - 173s 3s/step - loss: 0.1806 - acc: 0.9523 - val_loss: 0.0011 - val_acc: 1.0000\n",
      "Epoch 5/5\n",
      "62/62 [==============================] - 173s 3s/step - loss: 0.1442 - acc: 0.9641 - val_loss: 0.0180 - val_acc: 1.0000\n"
     ]
    },
    {
     "data": {
      "text/plain": [
       "3685"
      ]
     },
     "execution_count": 56,
     "metadata": {},
     "output_type": "execute_result"
    }
   ],
   "source": [
    "from keras.models import Sequential\n",
    "from keras.layers import Conv2D, MaxPooling2D\n",
    "from keras.layers import Dropout, Flatten, Dense\n",
    "from keras.preprocessing.image import ImageDataGenerator\n",
    "\n",
    "# 建立模型\n",
    "model = Sequential()\n",
    "model.add(Conv2D(32, 3, activation='relu', input_shape=(128,128,3)))\n",
    "model.add(MaxPooling2D(pool_size=(2, 2)))\n",
    "\n",
    "model.add(Conv2D(32, 3, activation='relu'))\n",
    "model.add(MaxPooling2D(pool_size=(2, 2)))\n",
    "\n",
    "model.add(Conv2D(64, 3, activation='relu'))\n",
    "model.add(MaxPooling2D(pool_size=(2, 2)))\n",
    "\n",
    "model.add(Flatten())\n",
    "model.add(Dense(64, activation='relu'))\n",
    "model.add(Dropout(0.5))\n",
    "model.add(Dense(4, activation='sigmoid'))\n",
    "\n",
    "# 編譯\n",
    "model.compile(loss='sparse_categorical_crossentropy',\n",
    "              optimizer='rmsprop',\n",
    "              metrics=['accuracy'])\n",
    "\n",
    "\n",
    "train_data_dir = 'C:/Users/USER/Desktop/train'\n",
    "validation_data_dir = 'C:/Users/USER/Desktop/test'\n",
    "#Keras的processing模塊中提供了一個能夠實時進行數據增強的圖像生成類ImagGenerator\n",
    "train_datagen = ImageDataGenerator(\n",
    "        #0~255調成0~1\n",
    "        rescale=1. / 255,\n",
    "        #剪切變換的程度\n",
    "        shear_range=0.2,\n",
    "        #進行隨機放大\n",
    "        zoom_range=0.2,\n",
    "        #隨機對圖像進行水平翻轉 \n",
    "        horizontal_flip=True)\n",
    "\n",
    "val_datagen = ImageDataGenerator(rescale=1. / 255)\n",
    "\n",
    "\n",
    "#從文件夾中獲取圖像數據\n",
    "train_generator = train_datagen.flow_from_directory(\n",
    "        train_data_dir, #訓練資料位置\n",
    "        target_size=(128, 128), # 圖片被resize成 128*128\n",
    "        batch_size=16,\n",
    "        class_mode='sparse')\n",
    "\n",
    "validation_generator = val_datagen.flow_from_directory(\n",
    "        validation_data_dir, #驗證資料位置\n",
    "        target_size=(128, 128), # 圖片被resize成 128*128\n",
    "        batch_size=16,\n",
    "        class_mode='sparse')\n",
    "\n",
    "#訓練模型\n",
    "model.fit_generator(train_generator,\n",
    "                    steps_per_epoch=62,\n",
    "                    epochs=5,\n",
    "                    validation_data=validation_generator,\n",
    "                    validation_steps=8)\n",
    "\n",
    "\n",
    "# 保存整個模型\n",
    "model.save('C:/Users/USER/Desktop/model.hdf5')\n",
    "\n",
    "# 保存模型的權重\n",
    "model.save_weights('C:/Users/USER/Desktop/model_weights.h5')\n",
    "\n",
    "# 保存模型的結構\n",
    "json_string = model.to_json()\n",
    "open('model_to_json.json','w').write(json_string)\n",
    "yaml_string = model.to_yaml()\n",
    "open('model_to_yaml.yaml','w').write(json_string)\n"
   ]
  },
  {
   "cell_type": "code",
   "execution_count": 60,
   "metadata": {
    "scrolled": false
   },
   "outputs": [
    {
     "name": "stdout",
     "output_type": "stream",
     "text": [
      "[[3.2464850e-01 1.3758302e-02 8.3446503e-07 5.9604645e-08]]\n"
     ]
    }
   ],
   "source": [
    "from keras.models import load_model\n",
    "import numpy as np\n",
    "from keras.preprocessing import image\n",
    "from keras.preprocessing.image import load_img\n",
    "\n",
    "# 加載權重\n",
    "model = load_model('C:/Users/USER/Desktop/model.hdf5')\n",
    "\n",
    "# 加載圖形\n",
    "img = load_img('C:/Users/USER/Desktop/IMG_3341.jpg',target_size=(128, 128))\n",
    "img = image.img_to_array(img) / 255.0\n",
    "img = np.expand_dims(img, axis=0)\n",
    "\n",
    "predictions = model.predict(img)\n",
    "print (predictions)\n"
   ]
  },
  {
   "cell_type": "code",
   "execution_count": 65,
   "metadata": {
    "scrolled": true
   },
   "outputs": [
    {
     "name": "stdout",
     "output_type": "stream",
     "text": [
      "[[9.5512503e-01 2.4529287e-01 2.8073788e-05 3.1799078e-05]]\n"
     ]
    }
   ],
   "source": [
    "from keras.models import load_model\n",
    "import numpy as np\n",
    "from keras.preprocessing import image\n",
    "from keras.preprocessing.image import load_img\n",
    "\n",
    "# 加載權重\n",
    "model = load_model('model.hdf5')\n",
    "\n",
    "# 加載圖形\n",
    "img = load_img('C:/Users/USER/Desktop/0.jpg',target_size=(128, 128))\n",
    "img = image.img_to_array(img) / 255.0\n",
    "img = np.expand_dims(img, axis=0)\n",
    "\n",
    "predictions = model.predict(img)\n",
    "print (predictions)"
   ]
  },
  {
   "cell_type": "code",
   "execution_count": 62,
   "metadata": {},
   "outputs": [
    {
     "name": "stdout",
     "output_type": "stream",
     "text": [
      "[[0.0000000e+00 3.3915043e-05 9.9989277e-01 0.0000000e+00]]\n"
     ]
    }
   ],
   "source": [
    "from keras.models import load_model\n",
    "import numpy as np\n",
    "from keras.preprocessing import image\n",
    "from keras.preprocessing.image import load_img\n",
    "\n",
    "# 加載權重\n",
    "model = load_model('C:/Users/USER/Desktop/model.hdf5')\n",
    "\n",
    "# 加載圖形\n",
    "img = load_img('C:/Users/USER/Desktop/IMG_3187.jpg',target_size=(128, 128))\n",
    "img = image.img_to_array(img) / 255.0\n",
    "img = np.expand_dims(img, axis=0)\n",
    "\n",
    "predictions = model.predict(img)\n",
    "print (predictions)"
   ]
  }
 ],
 "metadata": {
  "kernelspec": {
   "display_name": "Python 3",
   "language": "python",
   "name": "python3"
  },
  "language_info": {
   "codemirror_mode": {
    "name": "ipython",
    "version": 3
   },
   "file_extension": ".py",
   "mimetype": "text/x-python",
   "name": "python",
   "nbconvert_exporter": "python",
   "pygments_lexer": "ipython3",
   "version": "3.6.8"
  }
 },
 "nbformat": 4,
 "nbformat_minor": 2
}
