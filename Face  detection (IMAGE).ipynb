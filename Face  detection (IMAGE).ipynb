{
 "cells": [
  {
   "cell_type": "code",
   "execution_count": 21,
   "metadata": {},
   "outputs": [],
   "source": [
    "import cv2\n",
    "import numpy as np\n",
    "from matplotlib import pyplot as plt\n",
    "import glob\n"
   ]
  },
  {
   "cell_type": "code",
   "execution_count": 25,
   "metadata": {
    "scrolled": true
   },
   "outputs": [
    {
     "name": "stdout",
     "output_type": "stream",
     "text": [
      "Total number of Faces found 1\n",
      "Total number of Faces found 1\n"
     ]
    }
   ],
   "source": [
    "txtfiles = []\n",
    "\n",
    "#使用glob遍歷當前工作目錄中的每個.jpg文件，並將它們存儲在列表'txtfiles'中\n",
    "for file in glob.glob(\"*.jpg\"):\n",
    "    txtfiles.append(file)\n",
    "    \n",
    "for ix in txtfiles:\n",
    "    \n",
    "    #cv2.read 讀取每個jpg文件  cv2.IMREAD_COLOR用於加載彩色圖像\n",
    "    img = cv2.imread(ix, cv2.IMREAD_COLOR)\n",
    "    #傳遞圖片副本\n",
    "    imgtest1 = img.copy()\n",
    "    #將圖像轉換為灰度圖像，因為OpenCV面部偵測需要灰度圖像。\n",
    "    imgtest = cv2.cvtColor(imgtest1, cv2.COLOR_BGR2GRAY)\n",
    "    #加載我們的Haar分類器（下載的XML文件）進行面部檢測和眼睛檢測\n",
    "    facecascade = cv2.CascadeClassifier(cv2.data.haarcascades + 'haarcascade_frontalface_default.xml')\n",
    "    #eye_cascade = cv2.CascadeClassifier(cv2.data.haarcascades + 'haarcascade_eye.xml')\n",
    "    \n",
    "    #scaleFactor：這個函數補償了當一個面看起來比另一個面更大時發生的大小的錯誤感知，因為它更靠近相機。\n",
    "    #minNeighbors：每個目標至少檢測到幾次以上，才可被認定是真數據\n",
    "    faces = facecascade.detectMultiScale(imgtest, scaleFactor=1.2, minNeighbors=5)\n",
    "    print('Total number of Faces found',len(faces))\n",
    "    #在圖像上繪製矩形\n",
    "    for (x, y, w, h) in faces:\n",
    "        #利用 cv2.rectangle把辨識到的臉部或眼睛進行標注，參數依序是\n",
    "         #圖片數據\n",
    "         #開始座標\n",
    "         #結束座標\n",
    "         #線顏色\n",
    "         #線粗細\n",
    "        face_detect = cv2.rectangle(img, (x, y), (x+w, y+h), (0, 255, 0), 2)\n",
    "        #roi_gray = imgtest[y:y+h, x:x+w]\n",
    "        #roi_color = imgtest[y:y+h, x:x+w]       \n",
    "        cv2.imshow('image',face_detect)\n",
    "# 按下任意鍵則關閉所有視窗\n",
    "cv2.waitKey(0)\n",
    "cv2.destroyAllWindows()\n",
    "        \n",
    "        "
   ]
  }
 ],
 "metadata": {
  "kernelspec": {
   "display_name": "Python 3",
   "language": "python",
   "name": "python3"
  },
  "language_info": {
   "codemirror_mode": {
    "name": "ipython",
    "version": 3
   },
   "file_extension": ".py",
   "mimetype": "text/x-python",
   "name": "python",
   "nbconvert_exporter": "python",
   "pygments_lexer": "ipython3",
   "version": "3.6.8"
  }
 },
 "nbformat": 4,
 "nbformat_minor": 2
}
