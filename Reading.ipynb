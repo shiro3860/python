{
 "cells": [
  {
   "cell_type": "code",
   "execution_count": 1,
   "metadata": {},
   "outputs": [],
   "source": [
    "import numpy as np\n",
    "import cv2\n",
    "import tensorflow as tf\n"
   ]
  },
  {
   "cell_type": "code",
   "execution_count": 2,
   "metadata": {
    "scrolled": false
   },
   "outputs": [],
   "source": [
    "def read_and_decode(filename):\n",
    "    # 產生文件名隊列\n",
    "    filename_queue = tf.train.string_input_producer([filename], \n",
    "                                                 shuffle=False,)\n",
    "    # 數據讀取器\n",
    "    reader = tf.TFRecordReader()\n",
    "    _, serialized_example = reader.read(filename_queue)\n",
    "\n",
    "    # 數據解析\n",
    "    img_features = tf.parse_single_example(\n",
    "            serialized_example,\n",
    "            features={ 'Label'    : tf.FixedLenFeature([], tf.int64),\n",
    "                       'image_raw': tf.FixedLenFeature([], tf.string), })\n",
    "    \n",
    "    image = tf.decode_raw(img_features['image_raw'], tf.uint8)\n",
    "    image = tf.reshape(image, [128, 128, 3])\n",
    "    image = tf.cast(image, tf.float32) * (1./255) - 0.5\n",
    "    label = tf.cast(img_features['Label'], tf.int64)\n",
    "    \n",
    "    return image, label"
   ]
  }
 ],
 "metadata": {
  "kernelspec": {
   "display_name": "Python 3",
   "language": "python",
   "name": "python3"
  },
  "language_info": {
   "codemirror_mode": {
    "name": "ipython",
    "version": 3
   },
   "file_extension": ".py",
   "mimetype": "text/x-python",
   "name": "python",
   "nbconvert_exporter": "python",
   "pygments_lexer": "ipython3",
   "version": "3.6.8"
  }
 },
 "nbformat": 4,
 "nbformat_minor": 2
}
